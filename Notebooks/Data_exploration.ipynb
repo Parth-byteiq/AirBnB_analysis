{
 "cells": [
  {
   "cell_type": "code",
   "execution_count": 2,
   "id": "9da88a69",
   "metadata": {},
   "outputs": [],
   "source": [
    "import numpy as np\n",
    "import pandas as pd\n",
    "import plotly.express as px"
   ]
  },
  {
   "cell_type": "code",
   "execution_count": 6,
   "id": "2d8a3546",
   "metadata": {},
   "outputs": [],
   "source": [
    "parent_path = r\"C:\\Users\\Parth\\Desktop\\AirBnB_project\\Data\""
   ]
  },
  {
   "cell_type": "code",
   "execution_count": 5,
   "id": "6e9e1278",
   "metadata": {},
   "outputs": [],
   "source": [
    "import os"
   ]
  },
  {
   "cell_type": "code",
   "execution_count": 7,
   "id": "58085859",
   "metadata": {},
   "outputs": [],
   "source": [
    "data_path = os.path.join(parent_path, 'Raw', 'listings.csv')"
   ]
  },
  {
   "cell_type": "code",
   "execution_count": 8,
   "id": "a5397149",
   "metadata": {},
   "outputs": [],
   "source": [
    "df = pd.read_csv(data_path)"
   ]
  },
  {
   "cell_type": "code",
   "execution_count": 9,
   "id": "9a1e70d4",
   "metadata": {},
   "outputs": [
    {
     "data": {
      "text/plain": [
       "(14861, 18)"
      ]
     },
     "execution_count": 9,
     "metadata": {},
     "output_type": "execute_result"
    }
   ],
   "source": [
    "df.shape"
   ]
  },
  {
   "cell_type": "code",
   "execution_count": 11,
   "id": "0bc2c392",
   "metadata": {},
   "outputs": [
    {
     "data": {
      "text/plain": [
       "0"
      ]
     },
     "execution_count": 11,
     "metadata": {},
     "output_type": "execute_result"
    }
   ],
   "source": [
    "df['id'].duplicated().sum()"
   ]
  },
  {
   "cell_type": "code",
   "execution_count": 12,
   "id": "621750cd",
   "metadata": {},
   "outputs": [
    {
     "data": {
      "text/plain": [
       "5423"
      ]
     },
     "execution_count": 12,
     "metadata": {},
     "output_type": "execute_result"
    }
   ],
   "source": [
    "df['name'].nunique()"
   ]
  },
  {
   "cell_type": "code",
   "execution_count": 58,
   "id": "067030f7",
   "metadata": {},
   "outputs": [
    {
     "data": {
      "text/plain": [
       "14861"
      ]
     },
     "execution_count": 58,
     "metadata": {},
     "output_type": "execute_result"
    }
   ],
   "source": [
    "df.shape[0]"
   ]
  },
  {
   "cell_type": "code",
   "execution_count": 61,
   "id": "bf2e3788",
   "metadata": {},
   "outputs": [
    {
     "name": "stdout",
     "output_type": "stream",
     "text": [
      "22.979611062512618\n"
     ]
    }
   ],
   "source": [
    "per = (df['host_name'].nunique()/df.shape[0])*100\n",
    "print(per)"
   ]
  },
  {
   "cell_type": "code",
   "execution_count": 13,
   "id": "71a243ee",
   "metadata": {},
   "outputs": [
    {
     "data": {
      "text/plain": [
       "8834"
      ]
     },
     "execution_count": 13,
     "metadata": {},
     "output_type": "execute_result"
    }
   ],
   "source": [
    "df['host_id'].nunique()"
   ]
  },
  {
   "cell_type": "code",
   "execution_count": 14,
   "id": "5d54c459",
   "metadata": {},
   "outputs": [
    {
     "data": {
      "text/plain": [
       "3415"
      ]
     },
     "execution_count": 14,
     "metadata": {},
     "output_type": "execute_result"
    }
   ],
   "source": [
    "df['host_name'].nunique()"
   ]
  },
  {
   "cell_type": "code",
   "execution_count": 15,
   "id": "2e480af3",
   "metadata": {},
   "outputs": [],
   "source": [
    "# Check name, host_id and host_name"
   ]
  },
  {
   "cell_type": "code",
   "execution_count": 16,
   "id": "fcb0ec98",
   "metadata": {},
   "outputs": [
    {
     "data": {
      "text/plain": [
       "0"
      ]
     },
     "execution_count": 16,
     "metadata": {},
     "output_type": "execute_result"
    }
   ],
   "source": [
    "df['neighbourhood_group'].nunique()"
   ]
  },
  {
   "cell_type": "code",
   "execution_count": 17,
   "id": "9254bbfe",
   "metadata": {},
   "outputs": [
    {
     "data": {
      "text/plain": [
       "14861"
      ]
     },
     "execution_count": 17,
     "metadata": {},
     "output_type": "execute_result"
    }
   ],
   "source": [
    "df['neighbourhood_group'].isna().sum()"
   ]
  },
  {
   "cell_type": "code",
   "execution_count": 18,
   "id": "f8143407",
   "metadata": {},
   "outputs": [],
   "source": [
    "# Neighbourhood is all empty need to drop it"
   ]
  },
  {
   "cell_type": "code",
   "execution_count": 19,
   "id": "64711be6",
   "metadata": {},
   "outputs": [
    {
     "data": {
      "text/plain": [
       "44"
      ]
     },
     "execution_count": 19,
     "metadata": {},
     "output_type": "execute_result"
    }
   ],
   "source": [
    "df['neighbourhood'].nunique()"
   ]
  },
  {
   "cell_type": "code",
   "execution_count": 20,
   "id": "ebb0e0bf",
   "metadata": {},
   "outputs": [
    {
     "data": {
      "text/plain": [
       "neighbourhood\n",
       "78704    2233\n",
       "78702    1784\n",
       "78701    1039\n",
       "78741     972\n",
       "78745     753\n",
       "78703     685\n",
       "78705     590\n",
       "78751     551\n",
       "78723     493\n",
       "78744     427\n",
       "78758     421\n",
       "78721     401\n",
       "78734     351\n",
       "78722     284\n",
       "78752     268\n",
       "78746     263\n",
       "78757     260\n",
       "78748     246\n",
       "78727     207\n",
       "78724     205\n",
       "78753     198\n",
       "78756     198\n",
       "78729     186\n",
       "78737     186\n",
       "78759     179\n",
       "78731     172\n",
       "78754     162\n",
       "78749     157\n",
       "78747     128\n",
       "78728     127\n",
       "78725      90\n",
       "78733      88\n",
       "78738      82\n",
       "78750      79\n",
       "78732      76\n",
       "78736      75\n",
       "78717      68\n",
       "78735      56\n",
       "78730      39\n",
       "78739      36\n",
       "78719      20\n",
       "78726      16\n",
       "78742       8\n",
       "78712       2\n",
       "Name: count, dtype: int64"
      ]
     },
     "execution_count": 20,
     "metadata": {},
     "output_type": "execute_result"
    }
   ],
   "source": [
    "df['neighbourhood'].value_counts()"
   ]
  },
  {
   "cell_type": "code",
   "execution_count": 21,
   "id": "49d4e955",
   "metadata": {},
   "outputs": [],
   "source": [
    "# More bookings more popular"
   ]
  },
  {
   "cell_type": "code",
   "execution_count": 22,
   "id": "ccac145c",
   "metadata": {},
   "outputs": [
    {
     "data": {
      "text/html": [
       "<div>\n",
       "<style scoped>\n",
       "    .dataframe tbody tr th:only-of-type {\n",
       "        vertical-align: middle;\n",
       "    }\n",
       "\n",
       "    .dataframe tbody tr th {\n",
       "        vertical-align: top;\n",
       "    }\n",
       "\n",
       "    .dataframe thead th {\n",
       "        text-align: right;\n",
       "    }\n",
       "</style>\n",
       "<table border=\"1\" class=\"dataframe\">\n",
       "  <thead>\n",
       "    <tr style=\"text-align: right;\">\n",
       "      <th></th>\n",
       "      <th>longitude</th>\n",
       "      <th>latitude</th>\n",
       "    </tr>\n",
       "  </thead>\n",
       "  <tbody>\n",
       "    <tr>\n",
       "      <th>count</th>\n",
       "      <td>14861.000000</td>\n",
       "      <td>14861.000000</td>\n",
       "    </tr>\n",
       "    <tr>\n",
       "      <th>mean</th>\n",
       "      <td>-97.749786</td>\n",
       "      <td>30.281061</td>\n",
       "    </tr>\n",
       "    <tr>\n",
       "      <th>std</th>\n",
       "      <td>0.062634</td>\n",
       "      <td>0.065000</td>\n",
       "    </tr>\n",
       "    <tr>\n",
       "      <th>min</th>\n",
       "      <td>-98.053350</td>\n",
       "      <td>30.078440</td>\n",
       "    </tr>\n",
       "    <tr>\n",
       "      <th>25%</th>\n",
       "      <td>-97.768528</td>\n",
       "      <td>30.241870</td>\n",
       "    </tr>\n",
       "    <tr>\n",
       "      <th>50%</th>\n",
       "      <td>-97.740600</td>\n",
       "      <td>30.269160</td>\n",
       "    </tr>\n",
       "    <tr>\n",
       "      <th>75%</th>\n",
       "      <td>-97.716692</td>\n",
       "      <td>30.309070</td>\n",
       "    </tr>\n",
       "    <tr>\n",
       "      <th>max</th>\n",
       "      <td>-97.559300</td>\n",
       "      <td>30.518350</td>\n",
       "    </tr>\n",
       "  </tbody>\n",
       "</table>\n",
       "</div>"
      ],
      "text/plain": [
       "          longitude      latitude\n",
       "count  14861.000000  14861.000000\n",
       "mean     -97.749786     30.281061\n",
       "std        0.062634      0.065000\n",
       "min      -98.053350     30.078440\n",
       "25%      -97.768528     30.241870\n",
       "50%      -97.740600     30.269160\n",
       "75%      -97.716692     30.309070\n",
       "max      -97.559300     30.518350"
      ]
     },
     "execution_count": 22,
     "metadata": {},
     "output_type": "execute_result"
    }
   ],
   "source": [
    "df[['longitude','latitude']].describe()"
   ]
  },
  {
   "cell_type": "code",
   "execution_count": 24,
   "id": "5a75ca47",
   "metadata": {},
   "outputs": [],
   "source": [
    "df['location'] = list(zip(df['longitude'].tolist(),df['latitude'].tolist()))"
   ]
  },
  {
   "cell_type": "code",
   "execution_count": 25,
   "id": "b96fd7a8",
   "metadata": {},
   "outputs": [
    {
     "data": {
      "text/plain": [
       "location\n",
       "(-97.747574150252, 30.2715984321747)        61\n",
       "(-97.757196, 30.2748812)                    30\n",
       "(-97.755234, 30.237497)                     23\n",
       "(-97.72521, 30.32197)                       22\n",
       "(-97.738831, 30.256454)                     17\n",
       "                                            ..\n",
       "(-97.76257, 30.23372)                        1\n",
       "(-97.73708, 30.32614)                        1\n",
       "(-97.98792, 30.36864)                        1\n",
       "(-97.70623, 30.25638)                        1\n",
       "(-97.76494041135744, 30.132159387763625)     1\n",
       "Name: count, Length: 14382, dtype: int64"
      ]
     },
     "execution_count": 25,
     "metadata": {},
     "output_type": "execute_result"
    }
   ],
   "source": [
    "df['location'].value_counts(\n",
    ")"
   ]
  },
  {
   "cell_type": "code",
   "execution_count": 62,
   "id": "2479b728",
   "metadata": {},
   "outputs": [
    {
     "data": {
      "text/plain": [
       "array(['Entire home/apt', 'Private room', 'Shared room', 'Hotel room'],\n",
       "      dtype=object)"
      ]
     },
     "execution_count": 62,
     "metadata": {},
     "output_type": "execute_result"
    }
   ],
   "source": [
    "df['room_type'].unique()"
   ]
  },
  {
   "cell_type": "code",
   "execution_count": 26,
   "id": "a759455f",
   "metadata": {},
   "outputs": [
    {
     "data": {
      "text/plain": [
       "4"
      ]
     },
     "execution_count": 26,
     "metadata": {},
     "output_type": "execute_result"
    }
   ],
   "source": [
    "df['room_type'].nunique()"
   ]
  },
  {
   "cell_type": "code",
   "execution_count": 27,
   "id": "5ac6b346",
   "metadata": {},
   "outputs": [
    {
     "data": {
      "text/plain": [
       "room_type\n",
       "Entire home/apt    12205\n",
       "Private room        2529\n",
       "Shared room          121\n",
       "Hotel room             6\n",
       "Name: count, dtype: int64"
      ]
     },
     "execution_count": 27,
     "metadata": {},
     "output_type": "execute_result"
    }
   ],
   "source": [
    "df['room_type'].value_counts()"
   ]
  },
  {
   "cell_type": "code",
   "execution_count": 28,
   "id": "ea354e65",
   "metadata": {},
   "outputs": [
    {
     "data": {
      "text/plain": [
       "count    14861.000000\n",
       "mean       269.298769\n",
       "std        549.376464\n",
       "min          1.000000\n",
       "25%         95.000000\n",
       "50%        150.000000\n",
       "75%        266.000000\n",
       "max      19286.000000\n",
       "Name: price, dtype: float64"
      ]
     },
     "execution_count": 28,
     "metadata": {},
     "output_type": "execute_result"
    }
   ],
   "source": [
    "df['price'].describe()"
   ]
  },
  {
   "cell_type": "code",
   "execution_count": 29,
   "id": "eb8a253e",
   "metadata": {},
   "outputs": [
    {
     "data": {
      "text/plain": [
       "<AxesSubplot: >"
      ]
     },
     "execution_count": 29,
     "metadata": {},
     "output_type": "execute_result"
    },
    {
     "data": {
      "image/png": "[encoded data removed]",
      "text/plain": [
       "<Figure size 640x480 with 1 Axes>"
      ]
     },
     "metadata": {},
     "output_type": "display_data"
    }
   ],
   "source": [
    "df['price'].hist()"
   ]
  },
  {
   "cell_type": "code",
   "execution_count": 31,
   "id": "04df4c52",
   "metadata": {},
   "outputs": [
    {
     "data": {
      "text/plain": [
       "74"
      ]
     },
     "execution_count": 31,
     "metadata": {},
     "output_type": "execute_result"
    }
   ],
   "source": [
    "df.loc[df['price']>=2200, 'price'].nunique()"
   ]
  },
  {
   "cell_type": "code",
   "execution_count": 32,
   "id": "25ff7e83",
   "metadata": {},
   "outputs": [
    {
     "data": {
      "text/plain": [
       "count      106.000000\n",
       "mean      4737.632075\n",
       "std       3563.854674\n",
       "min       2202.000000\n",
       "25%       2701.250000\n",
       "50%       3465.000000\n",
       "75%       5000.000000\n",
       "max      19286.000000\n",
       "Name: price, dtype: float64"
      ]
     },
     "execution_count": 32,
     "metadata": {},
     "output_type": "execute_result"
    }
   ],
   "source": [
    "df.loc[df['price']>=2200, 'price'].describe()"
   ]
  },
  {
   "cell_type": "code",
   "execution_count": 33,
   "id": "bcd1aaa6",
   "metadata": {},
   "outputs": [
    {
     "data": {
      "text/plain": [
       "63"
      ]
     },
     "execution_count": 33,
     "metadata": {},
     "output_type": "execute_result"
    }
   ],
   "source": [
    "df['minimum_nights'].nunique()"
   ]
  },
  {
   "cell_type": "code",
   "execution_count": 34,
   "id": "e44557b2",
   "metadata": {},
   "outputs": [
    {
     "data": {
      "text/plain": [
       "count    14861.000000\n",
       "mean         7.629365\n",
       "std         28.289063\n",
       "min          1.000000\n",
       "25%          1.000000\n",
       "50%          2.000000\n",
       "75%          3.000000\n",
       "max       1124.000000\n",
       "Name: minimum_nights, dtype: float64"
      ]
     },
     "execution_count": 34,
     "metadata": {},
     "output_type": "execute_result"
    }
   ],
   "source": [
    "df['minimum_nights'].describe()"
   ]
  },
  {
   "cell_type": "code",
   "execution_count": 42,
   "id": "c24a0bda",
   "metadata": {},
   "outputs": [
    {
     "data": {
      "text/plain": [
       "365.0"
      ]
     },
     "execution_count": 42,
     "metadata": {},
     "output_type": "execute_result"
    }
   ],
   "source": [
    "df['minimum_nights'].quantile(0.999)"
   ]
  },
  {
   "cell_type": "code",
   "execution_count": 43,
   "id": "ca67f07d",
   "metadata": {},
   "outputs": [
    {
     "data": {
      "text/plain": [
       "(20, 19)"
      ]
     },
     "execution_count": 43,
     "metadata": {},
     "output_type": "execute_result"
    }
   ],
   "source": [
    "df[df['minimum_nights']>=365].shape"
   ]
  },
  {
   "cell_type": "code",
   "execution_count": 45,
   "id": "1c5c838a",
   "metadata": {},
   "outputs": [
    {
     "data": {
      "text/plain": [
       "count    14861.000000\n",
       "mean        37.843348\n",
       "std         79.894590\n",
       "min          0.000000\n",
       "25%          1.000000\n",
       "50%          8.000000\n",
       "75%         38.000000\n",
       "max       1141.000000\n",
       "Name: number_of_reviews, dtype: float64"
      ]
     },
     "execution_count": 45,
     "metadata": {},
     "output_type": "execute_result"
    }
   ],
   "source": [
    "df['number_of_reviews'].describe()"
   ]
  },
  {
   "cell_type": "code",
   "execution_count": 46,
   "id": "c191ba4c",
   "metadata": {},
   "outputs": [
    {
     "data": {
      "text/plain": [
       "0    2023-08-27\n",
       "1    2023-08-04\n",
       "2    2022-10-17\n",
       "3    2023-09-04\n",
       "4    2023-05-16\n",
       "Name: last_review, dtype: object"
      ]
     },
     "execution_count": 46,
     "metadata": {},
     "output_type": "execute_result"
    }
   ],
   "source": [
    "df['last_review'].head()"
   ]
  },
  {
   "cell_type": "code",
   "execution_count": 47,
   "id": "e9b4fdbb",
   "metadata": {},
   "outputs": [],
   "source": [
    "import datetime"
   ]
  },
  {
   "cell_type": "code",
   "execution_count": 48,
   "id": "2f57110e",
   "metadata": {},
   "outputs": [],
   "source": [
    "df['last_review'] = pd.to_datetime(df['last_review'])"
   ]
  },
  {
   "cell_type": "code",
   "execution_count": 49,
   "id": "d7615441",
   "metadata": {},
   "outputs": [
    {
     "data": {
      "text/plain": [
       "count                            11758\n",
       "mean     2022-08-20 05:31:38.894370048\n",
       "min                2012-03-13 00:00:00\n",
       "25%                2022-10-24 00:00:00\n",
       "50%                2023-07-15 00:00:00\n",
       "75%                2023-08-24 00:00:00\n",
       "max                2023-09-10 00:00:00\n",
       "Name: last_review, dtype: object"
      ]
     },
     "execution_count": 49,
     "metadata": {},
     "output_type": "execute_result"
    }
   ],
   "source": [
    "df['last_review'].describe()"
   ]
  },
  {
   "cell_type": "code",
   "execution_count": 50,
   "id": "484ef472",
   "metadata": {},
   "outputs": [
    {
     "data": {
      "text/plain": [
       "last_review\n",
       "2023-09-04    826\n",
       "2023-08-27    394\n",
       "2023-09-03    394\n",
       "2023-08-20    339\n",
       "2023-08-13    252\n",
       "             ... \n",
       "2018-12-18      1\n",
       "2019-03-22      1\n",
       "2018-10-01      1\n",
       "2019-06-06      1\n",
       "2023-02-16      1\n",
       "Name: count, Length: 1459, dtype: int64"
      ]
     },
     "execution_count": 50,
     "metadata": {},
     "output_type": "execute_result"
    }
   ],
   "source": [
    "df['last_review'].value_counts()"
   ]
  },
  {
   "cell_type": "code",
   "execution_count": 52,
   "id": "67b0a3a8",
   "metadata": {},
   "outputs": [
    {
     "data": {
      "text/plain": [
       "count    11758.000000\n",
       "mean         1.537180\n",
       "std          1.711574\n",
       "min          0.010000\n",
       "25%          0.260000\n",
       "50%          0.990000\n",
       "75%          2.260000\n",
       "max         26.250000\n",
       "Name: reviews_per_month, dtype: float64"
      ]
     },
     "execution_count": 52,
     "metadata": {},
     "output_type": "execute_result"
    }
   ],
   "source": [
    "df['reviews_per_month'].describe()"
   ]
  },
  {
   "cell_type": "code",
   "execution_count": 54,
   "id": "17a7ed82",
   "metadata": {},
   "outputs": [
    {
     "data": {
      "text/plain": [
       "count    14861.000000\n",
       "mean        11.047641\n",
       "std         24.472357\n",
       "min          1.000000\n",
       "25%          1.000000\n",
       "50%          2.000000\n",
       "75%          6.000000\n",
       "max        136.000000\n",
       "Name: calculated_host_listings_count, dtype: float64"
      ]
     },
     "execution_count": 54,
     "metadata": {},
     "output_type": "execute_result"
    }
   ],
   "source": [
    "df['calculated_host_listings_count'].describe()"
   ]
  },
  {
   "cell_type": "code",
   "execution_count": 63,
   "id": "36ce81ee",
   "metadata": {},
   "outputs": [
    {
     "data": {
      "text/plain": [
       "0         1\n",
       "1         1\n",
       "2         1\n",
       "3         1\n",
       "4         1\n",
       "         ..\n",
       "14856     5\n",
       "14857     6\n",
       "14858    19\n",
       "14859     1\n",
       "14860     1\n",
       "Name: calculated_host_listings_count, Length: 14861, dtype: int64"
      ]
     },
     "execution_count": 63,
     "metadata": {},
     "output_type": "execute_result"
    }
   ],
   "source": [
    "df['calculated_host_listings_count']"
   ]
  },
  {
   "cell_type": "code",
   "execution_count": 55,
   "id": "af0457e0",
   "metadata": {},
   "outputs": [
    {
     "data": {
      "text/plain": [
       "count    14861.000000\n",
       "mean       152.092591\n",
       "std        136.610382\n",
       "min          0.000000\n",
       "25%          1.000000\n",
       "50%        127.000000\n",
       "75%        302.000000\n",
       "max        365.000000\n",
       "Name: availability_365, dtype: float64"
      ]
     },
     "execution_count": 55,
     "metadata": {},
     "output_type": "execute_result"
    }
   ],
   "source": [
    "df['availability_365'].describe()"
   ]
  },
  {
   "cell_type": "code",
   "execution_count": 56,
   "id": "e6eb288f",
   "metadata": {},
   "outputs": [
    {
     "data": {
      "text/plain": [
       "count    14861.000000\n",
       "mean        10.367674\n",
       "std         17.111299\n",
       "min          0.000000\n",
       "25%          0.000000\n",
       "50%          2.000000\n",
       "75%         14.000000\n",
       "max        258.000000\n",
       "Name: number_of_reviews_ltm, dtype: float64"
      ]
     },
     "execution_count": 56,
     "metadata": {},
     "output_type": "execute_result"
    }
   ],
   "source": [
    "df['number_of_reviews_ltm'].describe()"
   ]
  },
  {
   "cell_type": "code",
   "execution_count": 57,
   "id": "06ec62f2",
   "metadata": {},
   "outputs": [
    {
     "data": {
      "text/plain": [
       "0    42\n",
       "1    21\n",
       "2     3\n",
       "3    17\n",
       "4     3\n",
       "Name: number_of_reviews_ltm, dtype: int64"
      ]
     },
     "execution_count": 57,
     "metadata": {},
     "output_type": "execute_result"
    }
   ],
   "source": [
    "df['number_of_reviews_ltm'].head()"
   ]
  },
  {
   "cell_type": "code",
   "execution_count": null,
   "id": "5964ed6a",
   "metadata": {},
   "outputs": [],
   "source": []
  }
 ],
 "metadata": {
  "kernelspec": {
   "display_name": "Python 3 (ipykernel)",
   "language": "python",
   "name": "python3"
  },
  "language_info": {
   "codemirror_mode": {
    "name": "ipython",
    "version": 3
   },
   "file_extension": ".py",
   "mimetype": "text/x-python",
   "name": "python",
   "nbconvert_exporter": "python",
   "pygments_lexer": "ipython3",
   "version": "3.11.0"
  }
 },
 "nbformat": 4,
 "nbformat_minor": 5
}
